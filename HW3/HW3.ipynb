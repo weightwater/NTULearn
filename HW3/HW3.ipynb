{
 "cells": [
  {
   "cell_type": "code",
   "execution_count": 2,
   "metadata": {},
   "outputs": [],
   "source": [
    "import numpy as np\n",
    "import pandas as pd \n",
    "from PIL import Image\n",
    "import os\n",
    "\n",
    "import torch\n",
    "import torch.nn as nn\n",
    "import torchvision.transforms as transform\n",
    "from torch.utils.data import Dataset\n",
    "\n",
    "from tqdm import tqdm\n",
    "import random"
   ]
  },
  {
   "cell_type": "markdown",
   "metadata": {},
   "source": [
    "#### set random seed"
   ]
  },
  {
   "cell_type": "code",
   "execution_count": 5,
   "metadata": {},
   "outputs": [],
   "source": [
    "def setSeed(seed):\n",
    "    torch.manual_seed(seed)\n",
    "    if torch.cuda.is_available():\n",
    "        torch.cuda.manual_seed(seed)\n",
    "        torch.cuda.manual_seed_all(seed)\n",
    "    np.random.seed(seed)\n",
    "    torch.backends.cudnn.benchmark = False\n",
    "    torch.backends.cudnn.deterministic = True"
   ]
  },
  {
   "cell_type": "markdown",
   "metadata": {},
   "source": [
    "#### transform"
   ]
  },
  {
   "cell_type": "code",
   "execution_count": 4,
   "metadata": {},
   "outputs": [],
   "source": [
    "test_tfm = transform.Compose([\n",
    "    transform.Resize((128, 128)),\n",
    "    transform.ToTensor()\n",
    "])\n",
    "\n",
    "train_tfm = transform.Compose([\n",
    "    transform.Resize((128, 128)),\n",
    "    transform.ToTensor()\n",
    "])"
   ]
  },
  {
   "cell_type": "markdown",
   "metadata": {},
   "source": [
    "#### dataset"
   ]
  },
  {
   "cell_type": "code",
   "execution_count": 6,
   "metadata": {},
   "outputs": [],
   "source": [
    "class foodDataset(Dataset):\n",
    "\n",
    "    def __init__(self, path, tfm=test_tfm):\n",
    "        super(foodDataset).__init__()\n",
    "        self.path = path\n",
    "        self.tfm = tfm\n",
    "        self.imgName = sorted([name for name in os.listdir(self.path) if name.endswith('.jpg')])\n",
    "        self.imgPath = [os.path.join(self.path, name) for name in self.imgName]\n",
    "     \n",
    "    def __getitem__(self, idx):\n",
    "        img = Image.open(self.imgPath[idx])\n",
    "        img = self.tfm(img)\n",
    "        try:\n",
    "            label = int(self.imgName[idx].split('_')[0])\n",
    "        except:\n",
    "            label = -1\n",
    "        return img, label\n",
    "    \n",
    "    def __len__(self, idx):\n",
    "        return len(self.imgName)\n"
   ]
  },
  {
   "cell_type": "markdown",
   "metadata": {},
   "source": [
    "#### model"
   ]
  },
  {
   "cell_type": "code",
   "execution_count": 9,
   "metadata": {},
   "outputs": [],
   "source": [
    "class cnnBlock(nn.Module):\n",
    "\n",
    "    def __init__(self, input_chann, output_channel, kernel_size=3, stride=1, padding=1):\n",
    "        super(cnnBlock, self).__init__()\n",
    "        self.block = nn.Sequential(\n",
    "            nn.Conv2d(input_chann, output_channel, kernel_size=kernel_size, stride=stride, padding=padding),\n",
    "            nn.BatchNorm2d(output_channel),\n",
    "            nn.ReLU(),\n",
    "            nn.MaxPool2d(2, 2, 0)\n",
    "        )\n",
    "\n",
    "    def forward(self, x):\n",
    "        return self.block(x)"
   ]
  },
  {
   "cell_type": "code",
   "execution_count": 12,
   "metadata": {},
   "outputs": [],
   "source": [
    "class linearBlock(nn.Module):\n",
    "\n",
    "    def __init__(self, input_dim, output_dim):\n",
    "        self.block = nn.Sequential(\n",
    "            nn.Linear(input_dim, output_dim),\n",
    "            nn.ReLU()\n",
    "        )\n",
    "    \n",
    "    def forward(self, x):\n",
    "        return self.block(x)"
   ]
  },
  {
   "cell_type": "code",
   "execution_count": 13,
   "metadata": {},
   "outputs": [],
   "source": [
    "class foodClassifier(nn.Module):\n",
    "    \n",
    "    def __init__(self, cnnLayers, linearLayers):\n",
    "        super(foodClassifier, self).__init__()\n",
    "        self.cnn = nn.Sequential(\n",
    "            *[cnnBlock(cnnLayers[i-1], cnnLayers[i]) for i in range(1, len(cnnLayers))]\n",
    "        )\n",
    "        self.linear = nn.Sequential(\n",
    "            *[linearBlock(linearLayers[i-1], linearLayers[i]) for i in range(1, len(linearLayers))]\n",
    "        )\n",
    "    \n",
    "    def forward(self, x):\n",
    "        x = self.cnn(x)\n",
    "        x = x.flatten(start_dim=1)\n",
    "        x = self.linear(x)\n",
    "        return x\n",
    "        "
   ]
  },
  {
   "cell_type": "code",
   "execution_count": null,
   "metadata": {},
   "outputs": [],
   "source": [
    "config = {\n",
    "    'learning_rate': 1e-4,\n",
    "    'batch_size': 64,\n",
    "    'cnnLayers': [3, 64, 128, 256, 512, 512],\n",
    "    'linearLayers': [512*4*4, 1024, 512, 11],\n",
    "    'gamma': 0.5,\n",
    "    'step_size': 10,\n",
    "    'weight_decay': 1e-2,\n",
    "    'seed': 914122,\n",
    "    'device': 'cuda' if torch.cuda.is_available() else 'cpu',\n",
    "    'epochNum': 400,\n",
    "    'early_stop': 50\n",
    "}"
   ]
  }
 ],
 "metadata": {
  "kernelspec": {
   "display_name": "Python 3.7.9 64-bit",
   "language": "python",
   "name": "python3"
  },
  "language_info": {
   "codemirror_mode": {
    "name": "ipython",
    "version": 3
   },
   "file_extension": ".py",
   "mimetype": "text/x-python",
   "name": "python",
   "nbconvert_exporter": "python",
   "pygments_lexer": "ipython3",
   "version": "3.7.9"
  },
  "orig_nbformat": 4,
  "vscode": {
   "interpreter": {
    "hash": "f1215c2695fb854c4ba7da04e87047ff6ad0cd3a897d5f699d6446d61aa011c7"
   }
  }
 },
 "nbformat": 4,
 "nbformat_minor": 2
}
