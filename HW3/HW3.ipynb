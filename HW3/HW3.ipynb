{
 "cells": [
  {
   "cell_type": "code",
   "execution_count": 2,
   "metadata": {},
   "outputs": [],
   "source": [
    "import numpy as np\n",
    "import pandas as pd \n",
    "from PIL import Image\n",
    "import os\n",
    "\n",
    "import torch\n",
    "import torch.nn as nn\n",
    "import torchvision.transforms as transform\n",
    "from torch.utils.data import Dataset\n",
    "from torch.utils.tensorboard import SummaryWriter\n",
    "from torch.utils.data import DataLoader\n",
    "\n",
    "from tqdm import tqdm\n",
    "import random"
   ]
  },
  {
   "cell_type": "markdown",
   "metadata": {},
   "source": [
    "#### set random seed"
   ]
  },
  {
   "cell_type": "code",
   "execution_count": 3,
   "metadata": {},
   "outputs": [],
   "source": [
    "def setSeed(seed):\n",
    "    torch.manual_seed(seed)\n",
    "    if torch.cuda.is_available():\n",
    "        torch.cuda.manual_seed(seed)\n",
    "        torch.cuda.manual_seed_all(seed)\n",
    "    np.random.seed(seed)\n",
    "    torch.backends.cudnn.benchmark = False\n",
    "    torch.backends.cudnn.deterministic = True"
   ]
  },
  {
   "cell_type": "markdown",
   "metadata": {},
   "source": [
    "#### transform"
   ]
  },
  {
   "cell_type": "code",
   "execution_count": 6,
   "metadata": {},
   "outputs": [],
   "source": [
    "test_tfm = transform.Compose([\n",
    "    transform.Resize((128, 128)),\n",
    "    transform.ToTensor()\n",
    "])\n",
    "\n",
    "train_tfm = transform.Compose([\n",
    "    transform.RandomRotation(40),\n",
    "    transform.RandomAffine(degrees=0, translate=(0.2, 0.2), shear=0.2),\n",
    "    transform.RandomHorizontalFlip(p=0.5),\n",
    "    transform.Resize((224, 224)),\n",
    "    transform.ToTensor(),\n",
    "    transform.Normalize([0.485, 0.456, 0.406], [0.229, 0.224, 0.225])\n",
    "])"
   ]
  },
  {
   "cell_type": "markdown",
   "metadata": {},
   "source": [
    "#### dataset"
   ]
  },
  {
   "cell_type": "code",
   "execution_count": 18,
   "metadata": {},
   "outputs": [],
   "source": [
    "class foodDataset(Dataset):\n",
    "\n",
    "    def __init__(self, path, tfm=test_tfm):\n",
    "        super(foodDataset).__init__()\n",
    "        self.path = path\n",
    "        self.tfm = tfm\n",
    "        self.imgName = sorted([name for name in os.listdir(self.path) if name.endswith('.jpg')])\n",
    "        self.imgPath = [os.path.join(self.path, name) for name in self.imgName]\n",
    "     \n",
    "    def __getitem__(self, idx):\n",
    "        img = Image.open(self.imgPath[idx])\n",
    "        img = self.tfm(img)\n",
    "        try:\n",
    "            label = int(self.imgName[idx].split('_')[0])\n",
    "        except:\n",
    "            label = -1\n",
    "        return img, label\n",
    "    \n",
    "    def __len__(self):\n",
    "        return len(self.imgName)\n"
   ]
  },
  {
   "cell_type": "markdown",
   "metadata": {},
   "source": [
    "#### model"
   ]
  },
  {
   "cell_type": "code",
   "execution_count": 19,
   "metadata": {},
   "outputs": [],
   "source": [
    "class cnnBlock(nn.Module):\n",
    "\n",
    "    def __init__(self, input_chann, output_channel, kernel_size=3, stride=1, padding=1):\n",
    "        super(cnnBlock, self).__init__()\n",
    "        self.block = nn.Sequential(\n",
    "            nn.Conv2d(input_chann, output_channel, kernel_size=kernel_size, stride=stride, padding=padding),\n",
    "            nn.BatchNorm2d(output_channel),\n",
    "            nn.ReLU(),\n",
    "            nn.MaxPool2d(2, 2, 0)\n",
    "        )\n",
    "\n",
    "    def forward(self, x):\n",
    "        return self.block(x)"
   ]
  },
  {
   "cell_type": "code",
   "execution_count": 20,
   "metadata": {},
   "outputs": [],
   "source": [
    "class linearBlock(nn.Module):\n",
    "\n",
    "    def __init__(self, input_dim, output_dim):\n",
    "        super(linearBlock, self).__init__()\n",
    "        self.block = nn.Sequential(\n",
    "            nn.Linear(input_dim, output_dim),\n",
    "            nn.BatchNorm1d(output_dim),\n",
    "            nn.Dropout(0.4),\n",
    "            nn.ReLU()\n",
    "        )\n",
    "    \n",
    "    def forward(self, x):\n",
    "        return self.block(x)"
   ]
  },
  {
   "cell_type": "code",
   "execution_count": 21,
   "metadata": {},
   "outputs": [],
   "source": [
    "class foodClassifier(nn.Module):\n",
    "    \n",
    "    def __init__(self, cnnLayers, linearLayers):\n",
    "        super(foodClassifier, self).__init__()\n",
    "        self.cnn = nn.Sequential(\n",
    "            *[cnnBlock(cnnLayers[i-1], cnnLayers[i]) for i in range(1, len(cnnLayers))]\n",
    "        )\n",
    "        self.linear = nn.Sequential(\n",
    "            *[linearBlock(linearLayers[i-1], linearLayers[i]) for i in range(1, len(linearLayers))]\n",
    "        )\n",
    "    \n",
    "    def forward(self, x):\n",
    "        x = self.cnn(x)\n",
    "        x = x.flatten(start_dim=1)\n",
    "        x = self.linear(x)\n",
    "        return x\n",
    "        "
   ]
  },
  {
   "cell_type": "markdown",
   "metadata": {},
   "source": [
    "#### Trainer"
   ]
  },
  {
   "cell_type": "code",
   "execution_count": 22,
   "metadata": {},
   "outputs": [],
   "source": [
    "def Trainer(model, train_loader, valid_loader, config):\n",
    "    model.to(config['device'])\n",
    "\n",
    "    optimizer = torch.optim.Adam(model.parameters(), config['learning_rate'], weight_decay=config['weight_decay'])\n",
    "    scheduler = torch.optim.lr_scheduler.StepLR(optimizer, step_size=config['step_size'], gamma=config['gamma'])\n",
    "    criterion = torch.nn.CrossEntropyLoss()\n",
    "\n",
    "    best_acc = 0\n",
    "    step = 0\n",
    "\n",
    "    writer = SummaryWriter()\n",
    "\n",
    "    for epoch in range(config['epochNum']):\n",
    "        model.train()\n",
    "\n",
    "        train_loss, train_acc = 0.0, 0.0\n",
    "\n",
    "        for data in tqdm(train_loader):\n",
    "            img, label = data\n",
    "            img, label = img.to(config['device']), label.to(config['device'])\n",
    "\n",
    "            pred = model(img)\n",
    "            loss = criterion(pred, label)\n",
    "\n",
    "            # clear gradients in every batch\n",
    "            optimizer.zero_grad()\n",
    "\n",
    "            # grad_norm = nn.utils.clip_grad_norm_(model.parameters(), max_norm=10)\n",
    "            loss.backward()\n",
    "\n",
    "            optimizer.step()\n",
    "\n",
    "            train_acc += (pred.argmax(dim=-1) == label).float().mean()\n",
    "            train_loss += loss.item()\n",
    "\n",
    "        train_loss = train_loss / len(train_loader)\n",
    "        train_acc = train_acc / len(train_loader)\n",
    "        writer.add_scalar(config['writerName'] + 'Loss/Train', train_loss, epoch)\n",
    "        writer.add_scalar(config['writerName'] + 'Accuracy/Train', train_acc, epoch)\n",
    "\n",
    "        model.eval()\n",
    "        valid_acc, valid_loss = 0.0, 0.0\n",
    "        for data in tqdm(valid_loader):\n",
    "            img, label = data \n",
    "            img, label = img.to(config['device']), label.to(config['device'])\n",
    "    \n",
    "            with torch.no_grad():\n",
    "                pred = model(img)\n",
    "\n",
    "            loss = criterion(pred, label)\n",
    "\n",
    "            valid_loss += loss.item()\n",
    "            valid_acc += (pred.argmax(dim=-1) == label).float().mean()\n",
    "\n",
    "        valid_acc, valid_loss = valid_acc / len(valid_loader), valid_loss / len(valid_loader)\n",
    "        writer.add_scalar(config['writerName'] + 'Loss/Valid', valid_loss, epoch)\n",
    "        writer.add_scalar(config['writerName'] + 'Accuracy/Valid', valid_acc, epoch)\n",
    "        print(f'epoch[{epoch}] | train loss: {train_loss:.5f} train acc: {train_acc:.4f} | valid loss: {valid_loss:.5f} valid acc: {valid_acc:.4f}')\n",
    "\n",
    "        scheduler.step()\n",
    "\n",
    "        torch.save(model.state_dict(), os.path.join(config['modelSavePath'], config['lastModel']))\n",
    "        if best_acc < valid_acc:\n",
    "            best_acc = valid_acc\n",
    "            torch.save(model.state_dict(), os.path.join(config['modelSavePath'], config['bestModel']))\n",
    "            print(f'find A better model! acc: {best_acc:.4f}')\n",
    "            step = 0\n",
    "        else:\n",
    "            step += 1\n",
    "            if step > config['early_stop']:\n",
    "                print('Cannot improve model~')\n",
    "                break\n",
    "    writer.close()\n"
   ]
  },
  {
   "cell_type": "markdown",
   "metadata": {},
   "source": [
    "#### parameters"
   ]
  },
  {
   "cell_type": "code",
   "execution_count": 23,
   "metadata": {},
   "outputs": [],
   "source": [
    "config = {\n",
    "    'learning_rate': 1e-3,\n",
    "    'batch_size': 64,\n",
    "    'cnnLayers': [3, 64, 128, 256, 512],\n",
    "    'linearLayers': [512*8*8, 1024, 512, 256, 11],\n",
    "    'gamma': 0.8,\n",
    "    'step_size': 10,\n",
    "    'weight_decay': 1e-3,\n",
    "    'seed': 914122,\n",
    "    'device': 'cuda' if torch.cuda.is_available() else 'cpu',\n",
    "    'epochNum': 400,\n",
    "    'early_stop': 50,\n",
    "    'modelSavePath': './model/',\n",
    "    'bestModel': 'best_0915.ckpt',\n",
    "    'lastModel': 'last_0915.ckpt',\n",
    "    'trainImgPath': './data/training/',\n",
    "    'validImgPath': './data/validation/',\n",
    "    'testImgPath': './data/test/',\n",
    "    'writerName': 'HW3 '\n",
    "}"
   ]
  },
  {
   "cell_type": "code",
   "execution_count": 1,
   "metadata": {},
   "outputs": [
    {
     "ename": "NameError",
     "evalue": "name 'config' is not defined",
     "output_type": "error",
     "traceback": [
      "\u001b[0;31m---------------------------------------------------------------------------\u001b[0m",
      "\u001b[0;31mNameError\u001b[0m                                 Traceback (most recent call last)",
      "\u001b[1;32m/Users/weightwater/feu/NTULearn/HW3/HW3.ipynb Cell 16\u001b[0m in \u001b[0;36m<cell line: 1>\u001b[0;34m()\u001b[0m\n\u001b[0;32m----> <a href='vscode-notebook-cell:/Users/weightwater/feu/NTULearn/HW3/HW3.ipynb#X21sZmlsZQ%3D%3D?line=0'>1</a>\u001b[0m \u001b[39mprint\u001b[39m(config[\u001b[39m'\u001b[39m\u001b[39mdevice\u001b[39m\u001b[39m'\u001b[39m])\n",
      "\u001b[0;31mNameError\u001b[0m: name 'config' is not defined"
     ]
    }
   ],
   "source": [
    "print(config['device'])"
   ]
  },
  {
   "cell_type": "markdown",
   "metadata": {},
   "source": [
    "#### data & model"
   ]
  },
  {
   "cell_type": "code",
   "execution_count": 12,
   "metadata": {},
   "outputs": [
    {
     "ename": "FileNotFoundError",
     "evalue": "[Errno 2] No such file or directory: './data/training/'",
     "output_type": "error",
     "traceback": [
      "\u001b[0;31m---------------------------------------------------------------------------\u001b[0m",
      "\u001b[0;31mFileNotFoundError\u001b[0m                         Traceback (most recent call last)",
      "\u001b[1;32m/Users/weightwater/feu/NTULearn/HW3/HW3.ipynb Cell 17\u001b[0m in \u001b[0;36m<cell line: 1>\u001b[0;34m()\u001b[0m\n\u001b[0;32m----> <a href='vscode-notebook-cell:/Users/weightwater/feu/NTULearn/HW3/HW3.ipynb#X22sZmlsZQ%3D%3D?line=0'>1</a>\u001b[0m train_set \u001b[39m=\u001b[39m foodDataset(config[\u001b[39m'\u001b[39;49m\u001b[39mtrainImgPath\u001b[39;49m\u001b[39m'\u001b[39;49m])\n\u001b[1;32m      <a href='vscode-notebook-cell:/Users/weightwater/feu/NTULearn/HW3/HW3.ipynb#X22sZmlsZQ%3D%3D?line=1'>2</a>\u001b[0m valid_set \u001b[39m=\u001b[39m foodDataset(config[\u001b[39m'\u001b[39m\u001b[39mvalidImgPath\u001b[39m\u001b[39m'\u001b[39m])\n\u001b[1;32m      <a href='vscode-notebook-cell:/Users/weightwater/feu/NTULearn/HW3/HW3.ipynb#X22sZmlsZQ%3D%3D?line=2'>3</a>\u001b[0m test_set \u001b[39m=\u001b[39m foodDataset(config[\u001b[39m'\u001b[39m\u001b[39mtestImgPath\u001b[39m\u001b[39m'\u001b[39m])\n",
      "\u001b[1;32m/Users/weightwater/feu/NTULearn/HW3/HW3.ipynb Cell 17\u001b[0m in \u001b[0;36mfoodDataset.__init__\u001b[0;34m(self, path, tfm)\u001b[0m\n\u001b[1;32m      <a href='vscode-notebook-cell:/Users/weightwater/feu/NTULearn/HW3/HW3.ipynb#X22sZmlsZQ%3D%3D?line=4'>5</a>\u001b[0m \u001b[39mself\u001b[39m\u001b[39m.\u001b[39mpath \u001b[39m=\u001b[39m path\n\u001b[1;32m      <a href='vscode-notebook-cell:/Users/weightwater/feu/NTULearn/HW3/HW3.ipynb#X22sZmlsZQ%3D%3D?line=5'>6</a>\u001b[0m \u001b[39mself\u001b[39m\u001b[39m.\u001b[39mtfm \u001b[39m=\u001b[39m tfm\n\u001b[0;32m----> <a href='vscode-notebook-cell:/Users/weightwater/feu/NTULearn/HW3/HW3.ipynb#X22sZmlsZQ%3D%3D?line=6'>7</a>\u001b[0m \u001b[39mself\u001b[39m\u001b[39m.\u001b[39mimgName \u001b[39m=\u001b[39m \u001b[39msorted\u001b[39m([name \u001b[39mfor\u001b[39;00m name \u001b[39min\u001b[39;00m os\u001b[39m.\u001b[39;49mlistdir(\u001b[39mself\u001b[39;49m\u001b[39m.\u001b[39;49mpath) \u001b[39mif\u001b[39;00m name\u001b[39m.\u001b[39mendswith(\u001b[39m'\u001b[39m\u001b[39m.jpg\u001b[39m\u001b[39m'\u001b[39m)])\n\u001b[1;32m      <a href='vscode-notebook-cell:/Users/weightwater/feu/NTULearn/HW3/HW3.ipynb#X22sZmlsZQ%3D%3D?line=7'>8</a>\u001b[0m \u001b[39mself\u001b[39m\u001b[39m.\u001b[39mimgPath \u001b[39m=\u001b[39m [os\u001b[39m.\u001b[39mpath\u001b[39m.\u001b[39mjoin(\u001b[39mself\u001b[39m\u001b[39m.\u001b[39mpath, name) \u001b[39mfor\u001b[39;00m name \u001b[39min\u001b[39;00m \u001b[39mself\u001b[39m\u001b[39m.\u001b[39mimgName]\n",
      "\u001b[0;31mFileNotFoundError\u001b[0m: [Errno 2] No such file or directory: './data/training/'"
     ]
    }
   ],
   "source": [
    "train_set = foodDataset(config['trainImgPath'])\n",
    "valid_set = foodDataset(config['validImgPath'])\n",
    "test_set = foodDataset(config['testImgPath'])"
   ]
  },
  {
   "cell_type": "code",
   "execution_count": 13,
   "metadata": {},
   "outputs": [
    {
     "ename": "NameError",
     "evalue": "name 'train_set' is not defined",
     "output_type": "error",
     "traceback": [
      "\u001b[0;31m---------------------------------------------------------------------------\u001b[0m",
      "\u001b[0;31mNameError\u001b[0m                                 Traceback (most recent call last)",
      "\u001b[1;32m/Users/weightwater/feu/NTULearn/HW3/HW3.ipynb Cell 18\u001b[0m in \u001b[0;36m<cell line: 1>\u001b[0;34m()\u001b[0m\n\u001b[0;32m----> <a href='vscode-notebook-cell:/Users/weightwater/feu/NTULearn/HW3/HW3.ipynb#X23sZmlsZQ%3D%3D?line=0'>1</a>\u001b[0m train_loader \u001b[39m=\u001b[39m DataLoader(train_set, batch_size\u001b[39m=\u001b[39mconfig[\u001b[39m'\u001b[39m\u001b[39mbatch_size\u001b[39m\u001b[39m'\u001b[39m], shuffle\u001b[39m=\u001b[39m\u001b[39mTrue\u001b[39;00m)\n\u001b[1;32m      <a href='vscode-notebook-cell:/Users/weightwater/feu/NTULearn/HW3/HW3.ipynb#X23sZmlsZQ%3D%3D?line=1'>2</a>\u001b[0m valid_loader \u001b[39m=\u001b[39m DataLoader(valid_set, batch_size\u001b[39m=\u001b[39mconfig[\u001b[39m'\u001b[39m\u001b[39mbatch_size\u001b[39m\u001b[39m'\u001b[39m])\n\u001b[1;32m      <a href='vscode-notebook-cell:/Users/weightwater/feu/NTULearn/HW3/HW3.ipynb#X23sZmlsZQ%3D%3D?line=2'>3</a>\u001b[0m test_loader \u001b[39m=\u001b[39m DataLoader(test_set, batch_size\u001b[39m=\u001b[39mconfig[\u001b[39m'\u001b[39m\u001b[39mbatch_size\u001b[39m\u001b[39m'\u001b[39m])\n",
      "\u001b[0;31mNameError\u001b[0m: name 'train_set' is not defined"
     ]
    }
   ],
   "source": [
    "train_loader = DataLoader(train_set, batch_size=config['batch_size'], shuffle=True)\n",
    "valid_loader = DataLoader(valid_set, batch_size=config['batch_size'])\n",
    "test_loader = DataLoader(test_set, batch_size=config['batch_size'])"
   ]
  },
  {
   "cell_type": "code",
   "execution_count": 25,
   "metadata": {},
   "outputs": [],
   "source": [
    "model = foodClassifier(config['cnnLayers'], config['linearLayers'])\n",
    "# model.load_state_dict(torch.load('./model/last_0915.ckpt'))"
   ]
  },
  {
   "cell_type": "code",
   "execution_count": 26,
   "metadata": {},
   "outputs": [
    {
     "name": "stderr",
     "output_type": "stream",
     "text": [
      "100%|██████████| 155/155 [00:59<00:00,  2.62it/s]\n",
      "100%|██████████| 54/54 [00:14<00:00,  3.78it/s]\n"
     ]
    },
    {
     "name": "stdout",
     "output_type": "stream",
     "text": [
      "epoch[0] | train loss: 2.34272 train acc: 0.2039 | valid loss: 2.10553 valid acc: 0.3147\n",
      "find A better model! acc: 0.3147\n"
     ]
    },
    {
     "name": "stderr",
     "output_type": "stream",
     "text": [
      "100%|██████████| 155/155 [00:51<00:00,  3.01it/s]\n",
      "100%|██████████| 54/54 [00:14<00:00,  3.81it/s]\n"
     ]
    },
    {
     "name": "stdout",
     "output_type": "stream",
     "text": [
      "epoch[1] | train loss: 2.17223 train acc: 0.2734 | valid loss: 2.01420 valid acc: 0.3677\n",
      "find A better model! acc: 0.3677\n"
     ]
    },
    {
     "name": "stderr",
     "output_type": "stream",
     "text": [
      "100%|██████████| 155/155 [00:48<00:00,  3.19it/s]\n",
      "100%|██████████| 54/54 [00:13<00:00,  3.95it/s]\n"
     ]
    },
    {
     "name": "stdout",
     "output_type": "stream",
     "text": [
      "epoch[2] | train loss: 2.12440 train acc: 0.2875 | valid loss: 1.93608 valid acc: 0.4017\n",
      "find A better model! acc: 0.4017\n"
     ]
    },
    {
     "name": "stderr",
     "output_type": "stream",
     "text": [
      "100%|██████████| 155/155 [00:44<00:00,  3.50it/s]\n",
      "100%|██████████| 54/54 [00:13<00:00,  3.90it/s]\n"
     ]
    },
    {
     "name": "stdout",
     "output_type": "stream",
     "text": [
      "epoch[3] | train loss: 2.07838 train acc: 0.3092 | valid loss: 1.95783 valid acc: 0.3987\n"
     ]
    },
    {
     "name": "stderr",
     "output_type": "stream",
     "text": [
      "100%|██████████| 155/155 [00:52<00:00,  2.95it/s]\n",
      "100%|██████████| 54/54 [00:16<00:00,  3.29it/s]\n"
     ]
    },
    {
     "name": "stdout",
     "output_type": "stream",
     "text": [
      "epoch[4] | train loss: 2.03693 train acc: 0.3252 | valid loss: 1.89901 valid acc: 0.4196\n",
      "find A better model! acc: 0.4196\n"
     ]
    },
    {
     "name": "stderr",
     "output_type": "stream",
     "text": [
      "100%|██████████| 155/155 [00:55<00:00,  2.80it/s]\n",
      "100%|██████████| 54/54 [00:15<00:00,  3.46it/s]\n"
     ]
    },
    {
     "name": "stdout",
     "output_type": "stream",
     "text": [
      "epoch[5] | train loss: 1.99519 train acc: 0.3386 | valid loss: 1.93207 valid acc: 0.4048\n"
     ]
    },
    {
     "name": "stderr",
     "output_type": "stream",
     "text": [
      "100%|██████████| 155/155 [00:57<00:00,  2.71it/s]\n",
      "100%|██████████| 54/54 [00:14<00:00,  3.65it/s]\n"
     ]
    },
    {
     "name": "stdout",
     "output_type": "stream",
     "text": [
      "epoch[6] | train loss: 1.96740 train acc: 0.3535 | valid loss: 1.86067 valid acc: 0.4273\n",
      "find A better model! acc: 0.4273\n"
     ]
    },
    {
     "name": "stderr",
     "output_type": "stream",
     "text": [
      "100%|██████████| 155/155 [01:04<00:00,  2.39it/s]\n",
      "100%|██████████| 54/54 [00:15<00:00,  3.50it/s]\n"
     ]
    },
    {
     "name": "stdout",
     "output_type": "stream",
     "text": [
      "epoch[7] | train loss: 1.95599 train acc: 0.3537 | valid loss: 1.92692 valid acc: 0.4024\n"
     ]
    },
    {
     "name": "stderr",
     "output_type": "stream",
     "text": [
      "100%|██████████| 155/155 [00:45<00:00,  3.38it/s]\n",
      "100%|██████████| 54/54 [00:13<00:00,  4.05it/s]\n"
     ]
    },
    {
     "name": "stdout",
     "output_type": "stream",
     "text": [
      "epoch[8] | train loss: 1.92562 train acc: 0.3646 | valid loss: 2.00141 valid acc: 0.3484\n"
     ]
    },
    {
     "name": "stderr",
     "output_type": "stream",
     "text": [
      "100%|██████████| 155/155 [01:01<00:00,  2.52it/s]\n",
      "100%|██████████| 54/54 [00:13<00:00,  3.88it/s]\n"
     ]
    },
    {
     "name": "stdout",
     "output_type": "stream",
     "text": [
      "epoch[9] | train loss: 1.93862 train acc: 0.3624 | valid loss: 1.82926 valid acc: 0.4403\n",
      "find A better model! acc: 0.4403\n"
     ]
    },
    {
     "name": "stderr",
     "output_type": "stream",
     "text": [
      "100%|██████████| 155/155 [00:51<00:00,  2.99it/s]\n",
      "100%|██████████| 54/54 [00:14<00:00,  3.76it/s]\n"
     ]
    },
    {
     "name": "stdout",
     "output_type": "stream",
     "text": [
      "epoch[10] | train loss: 1.87141 train acc: 0.3841 | valid loss: 1.90783 valid acc: 0.3936\n"
     ]
    },
    {
     "name": "stderr",
     "output_type": "stream",
     "text": [
      "100%|██████████| 155/155 [00:56<00:00,  2.75it/s]\n",
      "100%|██████████| 54/54 [00:15<00:00,  3.39it/s]\n"
     ]
    },
    {
     "name": "stdout",
     "output_type": "stream",
     "text": [
      "epoch[11] | train loss: 1.87310 train acc: 0.3844 | valid loss: 1.84311 valid acc: 0.4276\n"
     ]
    },
    {
     "name": "stderr",
     "output_type": "stream",
     "text": [
      "100%|██████████| 155/155 [00:52<00:00,  2.95it/s]\n",
      "100%|██████████| 54/54 [00:15<00:00,  3.38it/s]\n"
     ]
    },
    {
     "name": "stdout",
     "output_type": "stream",
     "text": [
      "epoch[12] | train loss: 1.85064 train acc: 0.3915 | valid loss: 1.67478 valid acc: 0.5198\n",
      "find A better model! acc: 0.5198\n"
     ]
    },
    {
     "name": "stderr",
     "output_type": "stream",
     "text": [
      "100%|██████████| 155/155 [01:50<00:00,  1.40it/s]\n",
      "100%|██████████| 54/54 [00:15<00:00,  3.56it/s]\n"
     ]
    },
    {
     "name": "stdout",
     "output_type": "stream",
     "text": [
      "epoch[13] | train loss: 1.83829 train acc: 0.3940 | valid loss: 1.79631 valid acc: 0.4502\n"
     ]
    },
    {
     "name": "stderr",
     "output_type": "stream",
     "text": [
      "100%|██████████| 155/155 [00:46<00:00,  3.34it/s]\n",
      "100%|██████████| 54/54 [00:14<00:00,  3.67it/s]\n"
     ]
    },
    {
     "name": "stdout",
     "output_type": "stream",
     "text": [
      "epoch[14] | train loss: 1.81864 train acc: 0.4003 | valid loss: 1.83066 valid acc: 0.4219\n"
     ]
    },
    {
     "name": "stderr",
     "output_type": "stream",
     "text": [
      "100%|██████████| 155/155 [00:52<00:00,  2.95it/s]\n",
      "100%|██████████| 54/54 [00:15<00:00,  3.51it/s]\n"
     ]
    },
    {
     "name": "stdout",
     "output_type": "stream",
     "text": [
      "epoch[15] | train loss: 1.82261 train acc: 0.4005 | valid loss: 1.99664 valid acc: 0.3558\n"
     ]
    },
    {
     "name": "stderr",
     "output_type": "stream",
     "text": [
      "100%|██████████| 155/155 [00:43<00:00,  3.58it/s]\n",
      "100%|██████████| 54/54 [00:14<00:00,  3.74it/s]\n"
     ]
    },
    {
     "name": "stdout",
     "output_type": "stream",
     "text": [
      "epoch[16] | train loss: 1.77782 train acc: 0.4172 | valid loss: 1.60090 valid acc: 0.5328\n",
      "find A better model! acc: 0.5328\n"
     ]
    },
    {
     "name": "stderr",
     "output_type": "stream",
     "text": [
      "100%|██████████| 155/155 [00:42<00:00,  3.68it/s]\n",
      "100%|██████████| 54/54 [00:14<00:00,  3.75it/s]\n"
     ]
    },
    {
     "name": "stdout",
     "output_type": "stream",
     "text": [
      "epoch[17] | train loss: 1.77510 train acc: 0.4177 | valid loss: 1.64426 valid acc: 0.5333\n",
      "find A better model! acc: 0.5333\n"
     ]
    },
    {
     "name": "stderr",
     "output_type": "stream",
     "text": [
      "100%|██████████| 155/155 [00:42<00:00,  3.69it/s]\n",
      "100%|██████████| 54/54 [00:13<00:00,  3.90it/s]\n"
     ]
    },
    {
     "name": "stdout",
     "output_type": "stream",
     "text": [
      "epoch[18] | train loss: 1.73714 train acc: 0.4278 | valid loss: 1.63147 valid acc: 0.5243\n"
     ]
    },
    {
     "name": "stderr",
     "output_type": "stream",
     "text": [
      "100%|██████████| 155/155 [00:43<00:00,  3.55it/s]\n",
      "100%|██████████| 54/54 [00:14<00:00,  3.75it/s]\n"
     ]
    },
    {
     "name": "stdout",
     "output_type": "stream",
     "text": [
      "epoch[19] | train loss: 1.72371 train acc: 0.4364 | valid loss: 1.58965 valid acc: 0.5419\n",
      "find A better model! acc: 0.5419\n"
     ]
    },
    {
     "name": "stderr",
     "output_type": "stream",
     "text": [
      "100%|██████████| 155/155 [00:44<00:00,  3.50it/s]\n",
      "100%|██████████| 54/54 [00:13<00:00,  3.94it/s]\n"
     ]
    },
    {
     "name": "stdout",
     "output_type": "stream",
     "text": [
      "epoch[20] | train loss: 1.63375 train acc: 0.4564 | valid loss: 1.63351 valid acc: 0.5199\n"
     ]
    },
    {
     "name": "stderr",
     "output_type": "stream",
     "text": [
      "100%|██████████| 155/155 [00:45<00:00,  3.43it/s]\n",
      "100%|██████████| 54/54 [00:14<00:00,  3.83it/s]\n"
     ]
    },
    {
     "name": "stdout",
     "output_type": "stream",
     "text": [
      "epoch[21] | train loss: 1.59502 train acc: 0.4708 | valid loss: 1.53218 valid acc: 0.5572\n",
      "find A better model! acc: 0.5572\n"
     ]
    },
    {
     "name": "stderr",
     "output_type": "stream",
     "text": [
      "100%|██████████| 155/155 [00:43<00:00,  3.57it/s]\n",
      "100%|██████████| 54/54 [00:14<00:00,  3.75it/s]\n"
     ]
    },
    {
     "name": "stdout",
     "output_type": "stream",
     "text": [
      "epoch[22] | train loss: 1.54667 train acc: 0.4810 | valid loss: 1.50179 valid acc: 0.5651\n",
      "find A better model! acc: 0.5651\n"
     ]
    },
    {
     "name": "stderr",
     "output_type": "stream",
     "text": [
      "100%|██████████| 155/155 [00:46<00:00,  3.35it/s]\n",
      "100%|██████████| 54/54 [00:14<00:00,  3.84it/s]\n"
     ]
    },
    {
     "name": "stdout",
     "output_type": "stream",
     "text": [
      "epoch[23] | train loss: 1.50718 train acc: 0.5010 | valid loss: 1.55514 valid acc: 0.5487\n"
     ]
    },
    {
     "name": "stderr",
     "output_type": "stream",
     "text": [
      "100%|██████████| 155/155 [00:47<00:00,  3.23it/s]\n",
      "100%|██████████| 54/54 [00:14<00:00,  3.78it/s]\n"
     ]
    },
    {
     "name": "stdout",
     "output_type": "stream",
     "text": [
      "epoch[24] | train loss: 1.47004 train acc: 0.5078 | valid loss: 1.44504 valid acc: 0.6026\n",
      "find A better model! acc: 0.6026\n"
     ]
    },
    {
     "name": "stderr",
     "output_type": "stream",
     "text": [
      "100%|██████████| 155/155 [00:43<00:00,  3.52it/s]\n",
      "100%|██████████| 54/54 [00:13<00:00,  3.98it/s]\n"
     ]
    },
    {
     "name": "stdout",
     "output_type": "stream",
     "text": [
      "epoch[25] | train loss: 1.43119 train acc: 0.5172 | valid loss: 1.53720 valid acc: 0.5538\n"
     ]
    },
    {
     "name": "stderr",
     "output_type": "stream",
     "text": [
      "100%|██████████| 155/155 [00:51<00:00,  3.03it/s]\n",
      "100%|██████████| 54/54 [00:16<00:00,  3.19it/s]\n"
     ]
    },
    {
     "name": "stdout",
     "output_type": "stream",
     "text": [
      "epoch[26] | train loss: 1.39660 train acc: 0.5306 | valid loss: 1.47346 valid acc: 0.5747\n"
     ]
    },
    {
     "name": "stderr",
     "output_type": "stream",
     "text": [
      "100%|██████████| 155/155 [00:47<00:00,  3.29it/s]\n",
      "100%|██████████| 54/54 [00:14<00:00,  3.75it/s]\n"
     ]
    },
    {
     "name": "stdout",
     "output_type": "stream",
     "text": [
      "epoch[27] | train loss: 1.38047 train acc: 0.5359 | valid loss: 1.39783 valid acc: 0.6046\n",
      "find A better model! acc: 0.6046\n"
     ]
    },
    {
     "name": "stderr",
     "output_type": "stream",
     "text": [
      "100%|██████████| 155/155 [00:44<00:00,  3.52it/s]\n",
      "100%|██████████| 54/54 [00:13<00:00,  3.86it/s]\n"
     ]
    },
    {
     "name": "stdout",
     "output_type": "stream",
     "text": [
      "epoch[28] | train loss: 1.35633 train acc: 0.5383 | valid loss: 1.42644 valid acc: 0.6084\n",
      "find A better model! acc: 0.6084\n"
     ]
    },
    {
     "name": "stderr",
     "output_type": "stream",
     "text": [
      "100%|██████████| 155/155 [00:48<00:00,  3.22it/s]\n",
      "100%|██████████| 54/54 [00:13<00:00,  3.91it/s]\n"
     ]
    },
    {
     "name": "stdout",
     "output_type": "stream",
     "text": [
      "epoch[29] | train loss: 1.31596 train acc: 0.5540 | valid loss: 1.33576 valid acc: 0.6330\n",
      "find A better model! acc: 0.6330\n"
     ]
    },
    {
     "name": "stderr",
     "output_type": "stream",
     "text": [
      "100%|██████████| 155/155 [00:41<00:00,  3.70it/s]\n",
      "100%|██████████| 54/54 [00:14<00:00,  3.71it/s]\n"
     ]
    },
    {
     "name": "stdout",
     "output_type": "stream",
     "text": [
      "epoch[30] | train loss: 1.27620 train acc: 0.5627 | valid loss: 1.42137 valid acc: 0.6007\n"
     ]
    },
    {
     "name": "stderr",
     "output_type": "stream",
     "text": [
      "100%|██████████| 155/155 [00:43<00:00,  3.59it/s]\n",
      "100%|██████████| 54/54 [00:14<00:00,  3.78it/s]\n"
     ]
    },
    {
     "name": "stdout",
     "output_type": "stream",
     "text": [
      "epoch[31] | train loss: 1.25651 train acc: 0.5630 | valid loss: 1.40203 valid acc: 0.5969\n"
     ]
    },
    {
     "name": "stderr",
     "output_type": "stream",
     "text": [
      "100%|██████████| 155/155 [00:46<00:00,  3.31it/s]\n",
      "100%|██████████| 54/54 [00:13<00:00,  3.97it/s]\n"
     ]
    },
    {
     "name": "stdout",
     "output_type": "stream",
     "text": [
      "epoch[32] | train loss: 1.23899 train acc: 0.5697 | valid loss: 1.53935 valid acc: 0.5433\n"
     ]
    },
    {
     "name": "stderr",
     "output_type": "stream",
     "text": [
      "100%|██████████| 155/155 [00:43<00:00,  3.55it/s]\n",
      "100%|██████████| 54/54 [00:13<00:00,  4.12it/s]\n"
     ]
    },
    {
     "name": "stdout",
     "output_type": "stream",
     "text": [
      "epoch[33] | train loss: 1.25023 train acc: 0.5626 | valid loss: 1.36268 valid acc: 0.6225\n"
     ]
    },
    {
     "name": "stderr",
     "output_type": "stream",
     "text": [
      "100%|██████████| 155/155 [00:42<00:00,  3.65it/s]\n",
      "100%|██████████| 54/54 [00:14<00:00,  3.77it/s]\n"
     ]
    },
    {
     "name": "stdout",
     "output_type": "stream",
     "text": [
      "epoch[34] | train loss: 1.19522 train acc: 0.5851 | valid loss: 1.42143 valid acc: 0.5945\n"
     ]
    },
    {
     "name": "stderr",
     "output_type": "stream",
     "text": [
      "100%|██████████| 155/155 [00:43<00:00,  3.54it/s]\n",
      "100%|██████████| 54/54 [00:13<00:00,  3.88it/s]\n"
     ]
    },
    {
     "name": "stdout",
     "output_type": "stream",
     "text": [
      "epoch[35] | train loss: 1.23179 train acc: 0.5719 | valid loss: 1.34889 valid acc: 0.6169\n"
     ]
    },
    {
     "name": "stderr",
     "output_type": "stream",
     "text": [
      "100%|██████████| 155/155 [00:42<00:00,  3.61it/s]\n",
      "100%|██████████| 54/54 [00:14<00:00,  3.79it/s]\n"
     ]
    },
    {
     "name": "stdout",
     "output_type": "stream",
     "text": [
      "epoch[36] | train loss: 1.20813 train acc: 0.5747 | valid loss: 1.35976 valid acc: 0.6227\n"
     ]
    },
    {
     "name": "stderr",
     "output_type": "stream",
     "text": [
      "100%|██████████| 155/155 [00:42<00:00,  3.64it/s]\n",
      "100%|██████████| 54/54 [00:13<00:00,  3.93it/s]\n"
     ]
    },
    {
     "name": "stdout",
     "output_type": "stream",
     "text": [
      "epoch[37] | train loss: 1.21315 train acc: 0.5738 | valid loss: 1.41897 valid acc: 0.5907\n"
     ]
    },
    {
     "name": "stderr",
     "output_type": "stream",
     "text": [
      "100%|██████████| 155/155 [00:44<00:00,  3.48it/s]\n",
      "100%|██████████| 54/54 [00:13<00:00,  3.95it/s]\n"
     ]
    },
    {
     "name": "stdout",
     "output_type": "stream",
     "text": [
      "epoch[38] | train loss: 1.15683 train acc: 0.5911 | valid loss: 1.37939 valid acc: 0.6072\n"
     ]
    },
    {
     "name": "stderr",
     "output_type": "stream",
     "text": [
      "100%|██████████| 155/155 [00:43<00:00,  3.57it/s]\n",
      "100%|██████████| 54/54 [00:14<00:00,  3.85it/s]\n"
     ]
    },
    {
     "name": "stdout",
     "output_type": "stream",
     "text": [
      "epoch[39] | train loss: 1.16966 train acc: 0.5858 | valid loss: 1.38348 valid acc: 0.6053\n"
     ]
    },
    {
     "name": "stderr",
     "output_type": "stream",
     "text": [
      "100%|██████████| 155/155 [00:45<00:00,  3.40it/s]\n",
      "100%|██████████| 54/54 [00:14<00:00,  3.60it/s]\n"
     ]
    },
    {
     "name": "stdout",
     "output_type": "stream",
     "text": [
      "epoch[40] | train loss: 1.14088 train acc: 0.5961 | valid loss: 1.32349 valid acc: 0.6283\n"
     ]
    },
    {
     "name": "stderr",
     "output_type": "stream",
     "text": [
      "100%|██████████| 155/155 [00:44<00:00,  3.46it/s]\n",
      "100%|██████████| 54/54 [00:13<00:00,  3.95it/s]\n"
     ]
    },
    {
     "name": "stdout",
     "output_type": "stream",
     "text": [
      "epoch[41] | train loss: 1.11558 train acc: 0.6017 | valid loss: 1.39495 valid acc: 0.6001\n"
     ]
    },
    {
     "name": "stderr",
     "output_type": "stream",
     "text": [
      " 83%|████████▎ | 128/155 [00:42<00:15,  1.75it/s]"
     ]
    }
   ],
   "source": [
    "Trainer(model, train_loader, valid_loader, config)"
   ]
  },
  {
   "cell_type": "code",
   "execution_count": null,
   "metadata": {},
   "outputs": [],
   "source": []
  }
 ],
 "metadata": {
  "kernelspec": {
   "display_name": "Python 3.9.12 ('base')",
   "language": "python",
   "name": "python3"
  },
  "language_info": {
   "codemirror_mode": {
    "name": "ipython",
    "version": 3
   },
   "file_extension": ".py",
   "mimetype": "text/x-python",
   "name": "python",
   "nbconvert_exporter": "python",
   "pygments_lexer": "ipython3",
   "version": "3.9.12"
  },
  "orig_nbformat": 4,
  "vscode": {
   "interpreter": {
    "hash": "38cca0c38332a56087b24af0bc80247f4fced29cb4f7f437d91dc159adec9c4e"
   }
  }
 },
 "nbformat": 4,
 "nbformat_minor": 2
}
